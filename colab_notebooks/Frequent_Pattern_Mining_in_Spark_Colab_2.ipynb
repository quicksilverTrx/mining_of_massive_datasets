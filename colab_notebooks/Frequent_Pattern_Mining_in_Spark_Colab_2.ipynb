{
  "nbformat": 4,
  "nbformat_minor": 0,
  "metadata": {
    "colab": {
      "name": "Frequent Pattern Mining in Spark - Colab 2.ipynb",
      "provenance": [],
      "collapsed_sections": [],
      "include_colab_link": true
    },
    "kernelspec": {
      "name": "python3",
      "display_name": "Python 3"
    }
  },
  "cells": [
    {
      "cell_type": "markdown",
      "metadata": {
        "id": "view-in-github",
        "colab_type": "text"
      },
      "source": [
        "<a href=\"https://colab.research.google.com/github/quicksilverTrx/mining_of_massive_datasets/blob/main/colab_notebooks/Frequent_Pattern_Mining_in_Spark_Colab_2.ipynb\" target=\"_parent\"><img src=\"https://colab.research.google.com/assets/colab-badge.svg\" alt=\"Open In Colab\"/></a>"
      ]
    },
    {
      "cell_type": "markdown",
      "metadata": {
        "id": "kPt5q27L5557"
      },
      "source": [
        "# CS246 - Colab 2\n",
        "## Frequent Pattern Mining in Spark"
      ]
    },
    {
      "cell_type": "markdown",
      "metadata": {
        "id": "p0-YhEpP_Ds-"
      },
      "source": [
        "### Setup"
      ]
    },
    {
      "cell_type": "markdown",
      "metadata": {
        "id": "Zsj5WYpR9QId"
      },
      "source": [
        "Let's setup Spark on your Colab environment.  Run the cell below!"
      ]
    },
    {
      "cell_type": "code",
      "metadata": {
        "id": "k-qHai2252mI",
        "colab": {
          "base_uri": "https://localhost:8080/"
        },
        "outputId": "31937a3a-766d-4f90-b7fd-bf9697483188"
      },
      "source": [
        "!pip install pyspark\n",
        "!pip install -U -q PyDrive\n",
        "!apt install openjdk-8-jdk-headless -qq\n",
        "import os\n",
        "os.environ[\"JAVA_HOME\"] = \"/usr/lib/jvm/java-8-openjdk-amd64\""
      ],
      "execution_count": 1,
      "outputs": [
        {
          "output_type": "stream",
          "text": [
            "Collecting pyspark\n",
            "\u001b[?25l  Downloading https://files.pythonhosted.org/packages/45/b0/9d6860891ab14a39d4bddf80ba26ce51c2f9dc4805e5c6978ac0472c120a/pyspark-3.1.1.tar.gz (212.3MB)\n",
            "\u001b[K     |████████████████████████████████| 212.3MB 63kB/s \n",
            "\u001b[?25hCollecting py4j==0.10.9\n",
            "\u001b[?25l  Downloading https://files.pythonhosted.org/packages/9e/b6/6a4fb90cd235dc8e265a6a2067f2a2c99f0d91787f06aca4bcf7c23f3f80/py4j-0.10.9-py2.py3-none-any.whl (198kB)\n",
            "\u001b[K     |████████████████████████████████| 204kB 38.8MB/s \n",
            "\u001b[?25hBuilding wheels for collected packages: pyspark\n",
            "  Building wheel for pyspark (setup.py) ... \u001b[?25l\u001b[?25hdone\n",
            "  Created wheel for pyspark: filename=pyspark-3.1.1-py2.py3-none-any.whl size=212767604 sha256=4a42c27eb447a7e54a2e556294b6bc02be044fcf9504002d55feb0263dc249b3\n",
            "  Stored in directory: /root/.cache/pip/wheels/0b/90/c0/01de724414ef122bd05f056541fb6a0ecf47c7ca655f8b3c0f\n",
            "Successfully built pyspark\n",
            "Installing collected packages: py4j, pyspark\n",
            "Successfully installed py4j-0.10.9 pyspark-3.1.1\n",
            "The following additional packages will be installed:\n",
            "  openjdk-8-jre-headless\n",
            "Suggested packages:\n",
            "  openjdk-8-demo openjdk-8-source libnss-mdns fonts-dejavu-extra\n",
            "  fonts-ipafont-gothic fonts-ipafont-mincho fonts-wqy-microhei\n",
            "  fonts-wqy-zenhei fonts-indic\n",
            "The following NEW packages will be installed:\n",
            "  openjdk-8-jdk-headless openjdk-8-jre-headless\n",
            "0 upgraded, 2 newly installed, 0 to remove and 30 not upgraded.\n",
            "Need to get 36.5 MB of archives.\n",
            "After this operation, 143 MB of additional disk space will be used.\n",
            "Selecting previously unselected package openjdk-8-jre-headless:amd64.\n",
            "(Reading database ... 160980 files and directories currently installed.)\n",
            "Preparing to unpack .../openjdk-8-jre-headless_8u282-b08-0ubuntu1~18.04_amd64.deb ...\n",
            "Unpacking openjdk-8-jre-headless:amd64 (8u282-b08-0ubuntu1~18.04) ...\n",
            "Selecting previously unselected package openjdk-8-jdk-headless:amd64.\n",
            "Preparing to unpack .../openjdk-8-jdk-headless_8u282-b08-0ubuntu1~18.04_amd64.deb ...\n",
            "Unpacking openjdk-8-jdk-headless:amd64 (8u282-b08-0ubuntu1~18.04) ...\n",
            "Setting up openjdk-8-jre-headless:amd64 (8u282-b08-0ubuntu1~18.04) ...\n",
            "update-alternatives: using /usr/lib/jvm/java-8-openjdk-amd64/jre/bin/orbd to provide /usr/bin/orbd (orbd) in auto mode\n",
            "update-alternatives: using /usr/lib/jvm/java-8-openjdk-amd64/jre/bin/servertool to provide /usr/bin/servertool (servertool) in auto mode\n",
            "update-alternatives: using /usr/lib/jvm/java-8-openjdk-amd64/jre/bin/tnameserv to provide /usr/bin/tnameserv (tnameserv) in auto mode\n",
            "Setting up openjdk-8-jdk-headless:amd64 (8u282-b08-0ubuntu1~18.04) ...\n",
            "update-alternatives: using /usr/lib/jvm/java-8-openjdk-amd64/bin/idlj to provide /usr/bin/idlj (idlj) in auto mode\n",
            "update-alternatives: using /usr/lib/jvm/java-8-openjdk-amd64/bin/wsimport to provide /usr/bin/wsimport (wsimport) in auto mode\n",
            "update-alternatives: using /usr/lib/jvm/java-8-openjdk-amd64/bin/jsadebugd to provide /usr/bin/jsadebugd (jsadebugd) in auto mode\n",
            "update-alternatives: using /usr/lib/jvm/java-8-openjdk-amd64/bin/native2ascii to provide /usr/bin/native2ascii (native2ascii) in auto mode\n",
            "update-alternatives: using /usr/lib/jvm/java-8-openjdk-amd64/bin/javah to provide /usr/bin/javah (javah) in auto mode\n",
            "update-alternatives: using /usr/lib/jvm/java-8-openjdk-amd64/bin/hsdb to provide /usr/bin/hsdb (hsdb) in auto mode\n",
            "update-alternatives: using /usr/lib/jvm/java-8-openjdk-amd64/bin/clhsdb to provide /usr/bin/clhsdb (clhsdb) in auto mode\n",
            "update-alternatives: using /usr/lib/jvm/java-8-openjdk-amd64/bin/xjc to provide /usr/bin/xjc (xjc) in auto mode\n",
            "update-alternatives: using /usr/lib/jvm/java-8-openjdk-amd64/bin/schemagen to provide /usr/bin/schemagen (schemagen) in auto mode\n",
            "update-alternatives: using /usr/lib/jvm/java-8-openjdk-amd64/bin/extcheck to provide /usr/bin/extcheck (extcheck) in auto mode\n",
            "update-alternatives: using /usr/lib/jvm/java-8-openjdk-amd64/bin/jhat to provide /usr/bin/jhat (jhat) in auto mode\n",
            "update-alternatives: using /usr/lib/jvm/java-8-openjdk-amd64/bin/wsgen to provide /usr/bin/wsgen (wsgen) in auto mode\n"
          ],
          "name": "stdout"
        }
      ]
    },
    {
      "cell_type": "markdown",
      "metadata": {
        "id": "-CJ71AKe91eh"
      },
      "source": [
        "Now we authenticate a Google Drive client to download the file we will be processing in our Spark job.\n",
        "\n",
        "**Make sure to follow the interactive instructions.**"
      ]
    },
    {
      "cell_type": "code",
      "metadata": {
        "id": "5K93ABEy9Zlo"
      },
      "source": [
        "from pydrive.auth import GoogleAuth\n",
        "from pydrive.drive import GoogleDrive\n",
        "from google.colab import auth\n",
        "from oauth2client.client import GoogleCredentials\n",
        "\n",
        "# Authenticate and create the PyDrive client\n",
        "auth.authenticate_user()\n",
        "gauth = GoogleAuth()\n",
        "gauth.credentials = GoogleCredentials.get_application_default()\n",
        "drive = GoogleDrive(gauth)"
      ],
      "execution_count": 3,
      "outputs": []
    },
    {
      "cell_type": "code",
      "metadata": {
        "id": "0orRvrc1-545"
      },
      "source": [
        "id='1dhi1F78ssqR8gE6U-AgB80ZW7V_9snX4'\n",
        "downloaded = drive.CreateFile({'id': id})\n",
        "downloaded.GetContentFile('products.csv')\n",
        "\n",
        "id='1KZBNEaIyMTcsRV817us6uLZgm-Mii8oU'\n",
        "downloaded = drive.CreateFile({'id': id})\n",
        "downloaded.GetContentFile('order_products__train.csv')"
      ],
      "execution_count": 4,
      "outputs": []
    },
    {
      "cell_type": "markdown",
      "metadata": {
        "id": "qwtlO4_m_LbQ"
      },
      "source": [
        "If you executed the cells above, you should be able to see the dataset we will need for this Colab under the \"Files\" tab on the left panel."
      ]
    },
    {
      "cell_type": "code",
      "metadata": {
        "id": "twk-K-jilWK7"
      },
      "source": [
        "import pandas as pd\n",
        "import numpy as np\n",
        "import matplotlib.pyplot as plt\n",
        "%matplotlib inline\n",
        "\n",
        "import pyspark\n",
        "from pyspark.sql import *\n",
        "from pyspark.sql.functions import *\n",
        "from pyspark import SparkContext, SparkConf"
      ],
      "execution_count": 5,
      "outputs": []
    },
    {
      "cell_type": "markdown",
      "metadata": {
        "id": "dr-8fK-1lmY0"
      },
      "source": [
        "Let's initialize the Spark context."
      ]
    },
    {
      "cell_type": "code",
      "metadata": {
        "id": "UOwtm2l7lePt"
      },
      "source": [
        "# create the session\n",
        "conf = SparkConf().set(\"spark.ui.port\", \"4050\")\n",
        "\n",
        "# create the context\n",
        "sc = pyspark.SparkContext(conf=conf)\n",
        "spark = SparkSession.builder.getOrCreate()"
      ],
      "execution_count": 6,
      "outputs": []
    },
    {
      "cell_type": "markdown",
      "metadata": {
        "id": "s-LpyCLzlul6"
      },
      "source": [
        "You can easily check the current version and get the link of the web interface. In the Spark UI, you can monitor the progress of your job and debug the performance bottlenecks (if your Colab is running with a **local runtime**)."
      ]
    },
    {
      "cell_type": "code",
      "metadata": {
        "id": "0g87iz4klwYJ",
        "colab": {
          "base_uri": "https://localhost:8080/",
          "height": 214
        },
        "outputId": "90440606-6727-49fa-ae3e-0e7181cbe28f"
      },
      "source": [
        "spark"
      ],
      "execution_count": 7,
      "outputs": [
        {
          "output_type": "execute_result",
          "data": {
            "text/html": [
              "\n",
              "            <div>\n",
              "                <p><b>SparkSession - in-memory</b></p>\n",
              "                \n",
              "        <div>\n",
              "            <p><b>SparkContext</b></p>\n",
              "\n",
              "            <p><a href=\"http://252e66ddfab9:4050\">Spark UI</a></p>\n",
              "\n",
              "            <dl>\n",
              "              <dt>Version</dt>\n",
              "                <dd><code>v3.1.1</code></dd>\n",
              "              <dt>Master</dt>\n",
              "                <dd><code>local[*]</code></dd>\n",
              "              <dt>AppName</dt>\n",
              "                <dd><code>pyspark-shell</code></dd>\n",
              "            </dl>\n",
              "        </div>\n",
              "        \n",
              "            </div>\n",
              "        "
            ],
            "text/plain": [
              "<pyspark.sql.session.SparkSession at 0x7f1c099d2590>"
            ]
          },
          "metadata": {
            "tags": []
          },
          "execution_count": 7
        }
      ]
    },
    {
      "cell_type": "markdown",
      "metadata": {
        "id": "Vdwc4xKPl3Jv"
      },
      "source": [
        "If you are running this Colab on the Google hosted runtime, the cell below will create a *ngrok* tunnel which will allow you to still check the Spark UI."
      ]
    },
    {
      "cell_type": "code",
      "metadata": {
        "id": "qephEB4Tl14J",
        "colab": {
          "base_uri": "https://localhost:8080/",
          "height": 52
        },
        "outputId": "9061be18-b983-4535-a965-1409c6f12f82"
      },
      "source": [
        "'''\n",
        "!wget https://bin.equinox.io/c/4VmDzA7iaHb/ngrok-stable-linux-amd64.zip\n",
        "!unzip ngrok-stable-linux-amd64.zip\n",
        "get_ipython().system_raw('./ngrok http 4050 &')\n",
        "!curl -s http://localhost:4040/api/tunnels | python3 -c \\\n",
        "    \"import sys, json; print(json.load(sys.stdin)['tunnels'][0]['public_url'])\"\n",
        "    '''"
      ],
      "execution_count": 8,
      "outputs": [
        {
          "output_type": "execute_result",
          "data": {
            "application/vnd.google.colaboratory.intrinsic+json": {
              "type": "string"
            },
            "text/plain": [
              "'\\n!wget https://bin.equinox.io/c/4VmDzA7iaHb/ngrok-stable-linux-amd64.zip\\n!unzip ngrok-stable-linux-amd64.zip\\nget_ipython().system_raw(\\'./ngrok http 4050 &\\')\\n!curl -s http://localhost:4040/api/tunnels | python3 -c     \"import sys, json; print(json.load(sys.stdin)[\\'tunnels\\'][0][\\'public_url\\'])\"\\n    '"
            ]
          },
          "metadata": {
            "tags": []
          },
          "execution_count": 8
        }
      ]
    },
    {
      "cell_type": "markdown",
      "metadata": {
        "id": "CRaF2A_j_nC7"
      },
      "source": [
        "### Your task"
      ]
    },
    {
      "cell_type": "markdown",
      "metadata": {
        "id": "ebLNUxP0_8x3"
      },
      "source": [
        "If you run successfully the setup stage, you are ready to work with the **3 Million Instacart Orders** dataset. In case you want to read more about it, check the [official Instacart blog post](https://tech.instacart.com/3-million-instacart-orders-open-sourced-d40d29ead6f2) about it, a concise [schema description](https://gist.github.com/jeremystan/c3b39d947d9b88b3ccff3147dbcf6c6b) of the dataset, and the [download page](https://www.instacart.com/datasets/grocery-shopping-2017).\n",
        "\n",
        "In this Colab, we will be working only with a small training dataset (~131K orders) to perform fast Frequent Pattern Mining with the FP-Growth algorithm."
      ]
    },
    {
      "cell_type": "code",
      "metadata": {
        "id": "xu-e7Ph2_ruG"
      },
      "source": [
        "products = spark.read.csv('products.csv', header=True, inferSchema=True)\n",
        "orders = spark.read.csv('order_products__train.csv', header=True, inferSchema=True)"
      ],
      "execution_count": 28,
      "outputs": []
    },
    {
      "cell_type": "code",
      "metadata": {
        "id": "hhxZZRT9syUO",
        "colab": {
          "base_uri": "https://localhost:8080/"
        },
        "outputId": "fcd61f94-8295-4700-e8ee-bf49aa50bf1f"
      },
      "source": [
        "products.printSchema()"
      ],
      "execution_count": 29,
      "outputs": [
        {
          "output_type": "stream",
          "text": [
            "root\n",
            " |-- product_id: integer (nullable = true)\n",
            " |-- product_name: string (nullable = true)\n",
            " |-- aisle_id: string (nullable = true)\n",
            " |-- department_id: string (nullable = true)\n",
            "\n"
          ],
          "name": "stdout"
        }
      ]
    },
    {
      "cell_type": "code",
      "metadata": {
        "id": "8VeRYRz2s1pm",
        "colab": {
          "base_uri": "https://localhost:8080/"
        },
        "outputId": "67f2b6ce-e1f2-40aa-c9c1-ed5782818723"
      },
      "source": [
        "orders.printSchema()"
      ],
      "execution_count": 30,
      "outputs": [
        {
          "output_type": "stream",
          "text": [
            "root\n",
            " |-- order_id: integer (nullable = true)\n",
            " |-- product_id: integer (nullable = true)\n",
            " |-- add_to_cart_order: integer (nullable = true)\n",
            " |-- reordered: integer (nullable = true)\n",
            "\n"
          ],
          "name": "stdout"
        }
      ]
    },
    {
      "cell_type": "markdown",
      "metadata": {
        "id": "h5muD_Io59CG"
      },
      "source": [
        "Use the Spark Dataframe API to join 'products' and 'orders', so that you will be able to see the product names in each transaction (and not only their ids).  Then, group by the orders by 'order_id' to obtain one row per basket (i.e., set of products purchased together by one customer). "
      ]
    },
    {
      "cell_type": "code",
      "metadata": {
        "id": "zRH4o4p7s7V6"
      },
      "source": [
        "# YOUR CODE HERE\n",
        "product_name=orders.join(products, on='product_id')\n",
        "group_order=orders.join(products, on='product_id').groupBy(\"order_id\").agg(collect_list('product_name').alias(\"product_name\"))"
      ],
      "execution_count": 32,
      "outputs": []
    },
    {
      "cell_type": "code",
      "metadata": {
        "colab": {
          "base_uri": "https://localhost:8080/"
        },
        "id": "ZYY7ntAETqOp",
        "outputId": "2fb27f72-df0d-40e3-8a50-843b0cd2bd34"
      },
      "source": [
        "group_order.limit(5).collect()"
      ],
      "execution_count": 38,
      "outputs": [
        {
          "output_type": "execute_result",
          "data": {
            "text/plain": [
              "[Row(order_id=1342, product_name=['Bag of Organic Bananas', 'Seedless Cucumbers', 'Organic Mandarins', 'Organic Strawberries', 'Versatile Stain Remover', 'Pink Lady Apples', 'Chicken Apple Sausage', 'Raw Shrimp']),\n",
              " Row(order_id=1591, product_name=['Cracked Wheat', 'Organic Greek Whole Milk Blended Vanilla Bean Yogurt', 'Navel Oranges', 'Spinach', 'Original Patties (100965) 12 Oz Breakfast', 'Cinnamon Multigrain Cereal', 'Chewy 25% Low Sugar Chocolate Chip Granola', 'Uncured Genoa Salami', 'Natural Vanilla Ice Cream', 'Lemon Yogurt', 'Strawberry Rhubarb Yoghurt', 'Garlic', 'Pure Vanilla Extract', 'Lower Sugar Instant Oatmeal  Variety', 'Organic Bunny Fruit Snacks Berry Patch', 'Buttermilk Waffles', 'Granny Smith Apples', 'Medium Scarlet Raspberries', 'Banana', 'Strawberry Banana Smoothie', 'Green Machine Juice Smoothie', 'Ultra Thin Sliced Provolone Cheese', 'Oven Roasted Turkey Breast', 'Original Turkey Burgers Smoke Flavor Added', 'Original Whole Grain Chips', 'Goldfish Pretzel Baked Snack Crackers', 'Twisted Tropical Tango Organic Juice Drink', 'Goodness Grapeness Organic Juice Drink', 'Nutty Bars', 'Honey Graham Snacks', 'Coconut Dreams Cookies']),\n",
              " Row(order_id=4519, product_name=['Beet Apple Carrot Lemon Ginger Organic Cold Pressed Juice Beverage']),\n",
              " Row(order_id=4935, product_name=['Vodka']),\n",
              " Row(order_id=6357, product_name=['Fresh Mozzarella Ball', 'Grated Parmesan', 'Organic Basil', 'Provolone', 'Gala Apples', 'Panko Bread Crumbs', 'Italian Pasta Sauce Basilico Tomato, Basil & Garlic', 'Globe Eggplant', 'Banana'])]"
            ]
          },
          "metadata": {
            "tags": []
          },
          "execution_count": 38
        }
      ]
    },
    {
      "cell_type": "markdown",
      "metadata": {
        "id": "EfHoTLAg6qnM"
      },
      "source": [
        "In this Colab we will explore [MLlib](https://spark.apache.org/mllib/), Apache Spark's scalable machine learning library. Specifically, you can use its implementation of the [FP-Growth](https://spark.apache.org/docs/latest/ml-frequent-pattern-mining.html#fp-growth) algorithm to perform efficiently Frequent Pattern Mining in Spark.\n",
        "Use the Python example in the documentation, and train a model with \n",
        "\n",
        "```minSupport=0.01``` and ```minConfidence=0.5```\n",
        "\n"
      ]
    },
    {
      "cell_type": "code",
      "metadata": {
        "id": "boWgxXNns089",
        "colab": {
          "base_uri": "https://localhost:8080/"
        },
        "outputId": "4d6592c4-c252-4b31-f965-4d1b64752d87"
      },
      "source": [
        "# YOUR CODE HERE\n",
        "group_order.printSchema()\n",
        "group_order.limit(15).show()"
      ],
      "execution_count": 19,
      "outputs": [
        {
          "output_type": "stream",
          "text": [
            "root\n",
            " |-- order_id: integer (nullable = true)\n",
            " |-- product_id: array (nullable = false)\n",
            " |    |-- element: integer (containsNull = false)\n",
            "\n",
            "+--------+--------------------+\n",
            "|order_id|          product_id|\n",
            "+--------+--------------------+\n",
            "|    1342|[13176, 30827, 14...|\n",
            "|    1591|[17203, 44008, 48...|\n",
            "|    4519|             [29270]|\n",
            "|    4935|             [45190]|\n",
            "|    6357|[37524, 33731, 43...|\n",
            "|   10362|[22451, 46823, 47...|\n",
            "|   19204|[25783, 26165, 45...|\n",
            "|   29601|[4472, 44329, 271...|\n",
            "|   31035|[13176, 8174, 407...|\n",
            "|   40011|[27292, 7905, 219...|\n",
            "|   46266|[23029, 38558, 34...|\n",
            "|   51607|[41390, 42752, 14...|\n",
            "|   58797|[13176, 3265, 983...|\n",
            "|   61793|[43352, 8859, 196...|\n",
            "|   67089|[24852, 47766, 27...|\n",
            "+--------+--------------------+\n",
            "\n"
          ],
          "name": "stdout"
        }
      ]
    },
    {
      "cell_type": "code",
      "metadata": {
        "colab": {
          "base_uri": "https://localhost:8080/"
        },
        "id": "qPyBGcNBQkJ9",
        "outputId": "9d56cf8d-dc00-4764-aa5a-91aab0e2087d"
      },
      "source": [
        "from pyspark.ml.fpm import FPGrowth\n",
        "fpgrowth=FPGrowth(itemsCol=\"product_name\",minSupport=0.01 , minConfidence=0.05)\n",
        "model= fpgrowth.fit(group_order)\n",
        "# Display frequent itemsets.\n",
        "model.freqItemsets.show()\n",
        "\n",
        "# Display generated association rules.\n",
        "model.associationRules.show()\n",
        "\n",
        "# transform examines the input items against all the association rules and summarize the\n",
        "# consequents as prediction\n",
        "model.transform(group_order).show()"
      ],
      "execution_count": 40,
      "outputs": [
        {
          "output_type": "stream",
          "text": [
            "+--------------------+-----+\n",
            "|               items| freq|\n",
            "+--------------------+-----+\n",
            "|            [Banana]|18726|\n",
            "|[Bag of Organic B...|15480|\n",
            "|[Organic Strawber...|10894|\n",
            "|[Organic Strawber...| 3074|\n",
            "|[Organic Strawber...| 2174|\n",
            "|[Organic Baby Spi...| 9784|\n",
            "|[Organic Baby Spi...| 1639|\n",
            "|[Organic Baby Spi...| 2236|\n",
            "|[Organic Baby Spi...| 2000|\n",
            "|       [Large Lemon]| 8135|\n",
            "|[Large Lemon, Ban...| 2158|\n",
            "|   [Organic Avocado]| 7409|\n",
            "|[Organic Avocado,...| 1349|\n",
            "|[Organic Avocado,...| 1402|\n",
            "|[Organic Avocado,...| 2216|\n",
            "|[Organic Hass Avo...| 7293|\n",
            "|[Organic Hass Avo...| 1539|\n",
            "|[Organic Hass Avo...| 2420|\n",
            "|      [Strawberries]| 6494|\n",
            "|[Strawberries, Ba...| 1948|\n",
            "+--------------------+-----+\n",
            "only showing top 20 rows\n",
            "\n",
            "+--------------------+--------------------+-------------------+------------------+--------------------+\n",
            "|          antecedent|          consequent|         confidence|              lift|             support|\n",
            "+--------------------+--------------------+-------------------+------------------+--------------------+\n",
            "|[Bag of Organic B...|[Organic Strawber...|0.19857881136950906|2.3917135359814496|0.023428270926537053|\n",
            "|[Bag of Organic B...|[Organic Baby Spi...|0.14444444444444443|1.9370820841282816|0.017041513920538987|\n",
            "|[Bag of Organic B...|[Organic Hass Avo...|0.15633074935400518|2.8125601661853374|0.018443856747631642|\n",
            "|[Bag of Organic B...|[Organic Raspberr...|0.11498708010335917|2.7204002512228005|0.013566142566439803|\n",
            "|            [Banana]|[Organic Strawber...|0.11609526861048809|1.3982691480735754|0.016568985359236028|\n",
            "|            [Banana]|[Organic Baby Spi...|0.10680337498664957|1.4322939522305094|0.015242856816224497|\n",
            "|            [Banana]|       [Large Lemon]|0.11524084161059489|1.8587136554252666|0.016447042504706234|\n",
            "|            [Banana]|   [Organic Avocado]|0.11833813948520773| 2.095698332260038|0.016889085352376744|\n",
            "|            [Banana]|      [Strawberries]|0.10402648723699669| 2.101818811807684| 0.01484654253900266|\n",
            "|            [Banana]|             [Limes]| 0.0710776460536153|1.5458357137491812|0.010144121211197402|\n",
            "|   [Organic Avocado]|       [Large Lemon]|0.18207585369145635| 2.936692155747055|0.010281306922543422|\n",
            "|   [Organic Avocado]|[Organic Baby Spi...|0.18922931569712512|2.5376726577375397|0.010685242628173372|\n",
            "|   [Organic Avocado]|            [Banana]| 0.2990956944256985|2.0956983322600378|0.016889085352376744|\n",
            "|       [Large Lemon]|            [Banana]|0.26527350952673634|1.8587136554252668|0.016447042504706234|\n",
            "|       [Large Lemon]|   [Organic Avocado]|0.16582667486170866| 2.936692155747055|0.010281306922543422|\n",
            "|       [Large Lemon]|             [Limes]|0.19606637984019668| 4.264159395400691|0.012156178310939037|\n",
            "|[Organic Strawber...|[Bag of Organic B...|0.28217367358178813|2.3917135359814496|0.023428270926537053|\n",
            "|[Organic Strawber...|            [Banana]|0.19955939049017807|1.3982691480735754|0.016568985359236028|\n",
            "|[Organic Strawber...|[Organic Baby Spi...|0.15044978887460989|2.0176171656223105|0.012491521160895976|\n",
            "|[Organic Strawber...|[Organic Hass Avo...| 0.1412704240866532|2.5416085388709284| 0.01172937832008475|\n",
            "+--------------------+--------------------+-------------------+------------------+--------------------+\n",
            "only showing top 20 rows\n",
            "\n",
            "+--------+--------------------+--------------------+\n",
            "|order_id|        product_name|          prediction|\n",
            "+--------+--------------------+--------------------+\n",
            "|    1342|[Bag of Organic B...|[Organic Baby Spi...|\n",
            "|    1591|[Cracked Wheat, O...|[Organic Strawber...|\n",
            "|    4519|[Beet Apple Carro...|                  []|\n",
            "|    4935|             [Vodka]|                  []|\n",
            "|    6357|[Fresh Mozzarella...|[Organic Strawber...|\n",
            "|   10362|[Crinkle Cut Fren...|[Organic Strawber...|\n",
            "|   19204|[Lemon Lime Thirs...|                  []|\n",
            "|   29601|[Toasted Coconut ...|[Organic Strawber...|\n",
            "|   31035|[Bag of Organic B...|[Organic Strawber...|\n",
            "|   40011|[Sea Salt Macadam...|[Organic Strawber...|\n",
            "|   46266|[Organic Uncured ...|[Organic Hass Avo...|\n",
            "|   51607|[Major Dickason's...|                  []|\n",
            "|   58797|[Bag of Organic B...|[Organic Strawber...|\n",
            "|   61793|[Raspberries, Nat...|                  []|\n",
            "|   67089|[Banana, Organic ...|[Organic Strawber...|\n",
            "|   70863|[Bathroom Tissue,...|                  []|\n",
            "|   88674|[Unsweetened Almo...|                  []|\n",
            "|   91937|[No. 485 Gin, Tra...|                  []|\n",
            "|   92317|[Banana, Indian M...|[Organic Strawber...|\n",
            "|   99621|[Organic Basil, F...|                  []|\n",
            "+--------+--------------------+--------------------+\n",
            "only showing top 20 rows\n",
            "\n"
          ],
          "name": "stdout"
        }
      ]
    },
    {
      "cell_type": "markdown",
      "metadata": {
        "id": "6kpTVdfD8UiO"
      },
      "source": [
        "Compute how many frequent itemsets and association rules were generated by running FP-growth.\n"
      ]
    },
    {
      "cell_type": "code",
      "metadata": {
        "colab": {
          "base_uri": "https://localhost:8080/"
        },
        "id": "28yvQxfzQY7S",
        "outputId": "d3c5f927-8f47-40f9-df01-30ffbf4b5025"
      },
      "source": [
        "model.freqItemsets.count()\n"
      ],
      "execution_count": 46,
      "outputs": [
        {
          "output_type": "execute_result",
          "data": {
            "text/plain": [
              "120"
            ]
          },
          "metadata": {
            "tags": []
          },
          "execution_count": 46
        }
      ]
    },
    {
      "cell_type": "code",
      "metadata": {
        "colab": {
          "base_uri": "https://localhost:8080/"
        },
        "id": "w3IJQQNkh2gp",
        "outputId": "6eb3804f-2cae-43f9-9339-decba7e9ac14"
      },
      "source": [
        "model.associationRules.count()"
      ],
      "execution_count": 45,
      "outputs": [
        {
          "output_type": "execute_result",
          "data": {
            "text/plain": [
              "32"
            ]
          },
          "metadata": {
            "tags": []
          },
          "execution_count": 45
        }
      ]
    },
    {
      "cell_type": "markdown",
      "metadata": {
        "id": "qT8Lwm1VAPoN"
      },
      "source": [
        "Now retrain the FP-growth model changing only \n",
        "```minsupport=0.001``` \n",
        "and compute how many frequent itemsets and association rules were generated.\n"
      ]
    },
    {
      "cell_type": "code",
      "metadata": {
        "id": "F4LTM9beApYn",
        "colab": {
          "base_uri": "https://localhost:8080/"
        },
        "outputId": "520a5657-a609-41ae-ac29-ce00dc574248"
      },
      "source": [
        "# YOUR CODE HERE\n",
        "fpgrowth1=FPGrowth(itemsCol=\"product_name\",minSupport=0.001 , minConfidence=0.05)\n",
        "model1= fpgrowth1.fit(group_order)\n",
        "# Display frequent itemsets.\n",
        "model1.freqItemsets.show()\n",
        "\n",
        "# Display generated association rules.\n",
        "model1.associationRules.show()\n",
        "\n",
        "# transform examines the input items against all the association rules and summarize the\n",
        "# consequents as prediction\n",
        "model1.transform(group_order).show()"
      ],
      "execution_count": 44,
      "outputs": [
        {
          "output_type": "stream",
          "text": [
            "+--------------------+-----+\n",
            "|               items| freq|\n",
            "+--------------------+-----+\n",
            "|[Organic Tomato B...|  772|\n",
            "|[Organic Tomato B...|  175|\n",
            "|[Organic Tomato B...|  144|\n",
            "|[Organic Tomato B...|  179|\n",
            "|[Organic Spinach ...|  475|\n",
            "|[Whole Milk Ricot...|  347|\n",
            "| [Medium Salsa Roja]|  275|\n",
            "|    [Ground Buffalo]|  231|\n",
            "|       [Tonic Water]|  194|\n",
            "|[Original Coconut...|  173|\n",
            "|[Low-Fat Strawber...|  152|\n",
            "|[Organic SprouTof...|  137|\n",
            "|            [Banana]|18726|\n",
            "|[Fruit Punch Spor...|  275|\n",
            "|[Kitchen Cheese E...|  230|\n",
            "|[Country White Br...|  194|\n",
            "|[Soft & Smooth Wh...|  173|\n",
            "|[Natural Liquid L...|  152|\n",
            "|[Bag of Organic B...|15480|\n",
            "|[Organic Large Gr...|  769|\n",
            "+--------------------+-----+\n",
            "only showing top 20 rows\n",
            "\n",
            "+--------------------+--------------------+-------------------+------------------+--------------------+\n",
            "|          antecedent|          consequent|         confidence|              lift|             support|\n",
            "+--------------------+--------------------+-------------------+------------------+--------------------+\n",
            "|[Broccoli Crown, ...|            [Banana]| 0.3690773067331671|2.5860442347085395|0.001127971404400...|\n",
            "|   [Sugar Snap Peas]|[Bag of Organic B...| 0.2207001522070015|1.8706619038067482|0.001105107119176276|\n",
            "|[Organic Red Onio...|[Bag of Organic B...|0.34673366834170855|2.9389262202485296|0.001577635680479...|\n",
            "|[Organic Red Onio...|[Organic Baby Spi...|0.22780569514237856|3.0550038280801664|0.001036514263503...|\n",
            "|[85% Lean Ground ...|            [Banana]|  0.235202492211838|1.6480125921511828|0.001150835689624...|\n",
            "|[Organic Small Bu...|[Bag of Organic B...|0.36633663366336633| 3.105081612812444|0.001127971404400...|\n",
            "|[Organic Zucchini...|       [Large Lemon]|0.34615384615384615| 5.583097725875844|0.001303264257787...|\n",
            "|[Organic Zucchini...|[Organic Baby Spi...|0.29554655870445345|3.9634473038688296|0.001112728547584...|\n",
            "|[Organic Zucchini...|             [Limes]|0.15368421052631578| 3.342408682073159|0.001112728547584...|\n",
            "|[Organic Zucchini...|   [Organic Avocado]|0.16210526315789472|2.8707881594930775|0.001173699974849...|\n",
            "|[Organic Zucchini...|       [Large Lemon]| 0.1957894736842105| 3.157878433021706|0.001417585683908...|\n",
            "|[Organic Zucchini...|[Organic Strawber...| 0.2031578947368421|2.4468647154880037|0.001470935682765664|\n",
            "|[Organic Zucchini...|[Bag of Organic B...| 0.2694736842105263|2.2840679994560045|0.001951085672476...|\n",
            "|[Organic Zucchini...|            [Banana]| 0.2326315789473684| 1.629998763329342|0.001684335678192807|\n",
            "|[Organic Zucchini...|  [Organic Cucumber]|0.15157894736842106| 4.311407349937819|0.001097485690768...|\n",
            "|[Organic Zucchini...|[Organic Hass Avo...|0.17473684210526316|  3.14370578853551|0.001265157115746...|\n",
            "|[Organic Zucchini...|[Organic Yellow O...| 0.1463157894736842|  4.47504625199362|0.001059378548727...|\n",
            "|[Organic Zucchini...|    [Organic Garlic]| 0.1463157894736842|  4.61711121237437|0.001059378548727...|\n",
            "|[Sparkling Water ...|[Lime Sparkling W...|0.18627450980392157|12.431786448048191|0.001013649978278929|\n",
            "|[Sparkling Water ...|[Sparkling Water ...|0.28431372549019607| 11.10584090736622|0.001547149966846...|\n",
            "+--------------------+--------------------+-------------------+------------------+--------------------+\n",
            "only showing top 20 rows\n",
            "\n",
            "+--------+--------------------+--------------------+\n",
            "|order_id|        product_name|          prediction|\n",
            "+--------+--------------------+--------------------+\n",
            "|    1342|[Bag of Organic B...|[Organic Baby Spi...|\n",
            "|    1591|[Cracked Wheat, O...|[Bag of Organic B...|\n",
            "|    4519|[Beet Apple Carro...|                  []|\n",
            "|    4935|             [Vodka]|                  []|\n",
            "|    6357|[Fresh Mozzarella...|[Organic Strawber...|\n",
            "|   10362|[Crinkle Cut Fren...|[Organic Strawber...|\n",
            "|   19204|[Lemon Lime Thirs...|[Bag of Organic B...|\n",
            "|   29601|[Toasted Coconut ...|[Organic Strawber...|\n",
            "|   31035|[Bag of Organic B...|[Organic Strawber...|\n",
            "|   40011|[Sea Salt Macadam...|[Organic Strawber...|\n",
            "|   46266|[Organic Uncured ...|[Large Lemon, Org...|\n",
            "|   51607|[Major Dickason's...|                  []|\n",
            "|   58797|[Bag of Organic B...|[Organic Strawber...|\n",
            "|   61793|[Raspberries, Nat...|[Hass Avocados, S...|\n",
            "|   67089|[Banana, Organic ...|[Organic Strawber...|\n",
            "|   70863|[Bathroom Tissue,...|[Limes, Organic W...|\n",
            "|   88674|[Unsweetened Almo...|[Organic Cilantro...|\n",
            "|   91937|[No. 485 Gin, Tra...|                  []|\n",
            "|   92317|[Banana, Indian M...|[Bag of Organic B...|\n",
            "|   99621|[Organic Basil, F...|[Limes, Organic W...|\n",
            "+--------+--------------------+--------------------+\n",
            "only showing top 20 rows\n",
            "\n"
          ],
          "name": "stdout"
        }
      ]
    },
    {
      "cell_type": "markdown",
      "metadata": {
        "id": "2WSXPflUN76-"
      },
      "source": [
        "Once you obtained the desired results, **head over to Gradescope and submit your solution for this Colab**!"
      ]
    }
  ]
}